{
    "cells": [
        {
            "cell_type": "code",
            "execution_count": 1,
            "metadata": {},
            "outputs": [
                {
                    "data": {
                        "text/plain": "(2111282, 28)"
                    },
                    "execution_count": 1,
                    "metadata": {},
                    "output_type": "execute_result"
                }
            ],
            "source": "# The code was removed by Watson Studio for sharing."
        },
        {
            "cell_type": "markdown",
            "metadata": {},
            "source": "# Los Angeles Crime Clustering\n\n\nA problem often encountered by prospective homeowners is where to purchase a home. Safety is of paramount importance in determining a home location. Los Angeles provides a public database of information, similar to most other major cities. By finding clusters in this data in general or by demonstrating where violent crimes tend to be clustered, one can see where safer neighborhoods may lie to move into.\n\nIt would be interesting to overlay other data, such as housing prices, homelessness, or other social welfare indicators, with this data, but that would fall outside the scope of the project."
        },
        {
            "cell_type": "markdown",
            "metadata": {},
            "source": "The data is downloaded from https://data.lacity.org/A-Safe-City/Crime-Data-from-2010-to-2019/63jg-8b9z, and the database is owned by the LAPD. It has well-defined columns and is publically available and free for download."
        },
        {
            "cell_type": "code",
            "execution_count": 2,
            "metadata": {},
            "outputs": [
                {
                    "data": {
                        "text/html": "<div>\n<style scoped>\n    .dataframe tbody tr th:only-of-type {\n        vertical-align: middle;\n    }\n\n    .dataframe tbody tr th {\n        vertical-align: top;\n    }\n\n    .dataframe thead th {\n        text-align: right;\n    }\n</style>\n<table border=\"1\" class=\"dataframe\">\n  <thead>\n    <tr style=\"text-align: right;\">\n      <th></th>\n      <th>DR_NO</th>\n      <th>Date Rptd</th>\n      <th>DATE OCC</th>\n      <th>TIME OCC</th>\n      <th>AREA</th>\n      <th>AREA NAME</th>\n      <th>Rpt Dist No</th>\n      <th>Part 1-2</th>\n      <th>Crm Cd</th>\n      <th>Crm Cd Desc</th>\n      <th>...</th>\n      <th>Status</th>\n      <th>Status Desc</th>\n      <th>Crm Cd 1</th>\n      <th>Crm Cd 2</th>\n      <th>Crm Cd 3</th>\n      <th>Crm Cd 4</th>\n      <th>LOCATION</th>\n      <th>Cross Street</th>\n      <th>LAT</th>\n      <th>LON</th>\n    </tr>\n  </thead>\n  <tbody>\n    <tr>\n      <th>0</th>\n      <td>1307355</td>\n      <td>02/20/2010 12:00:00 AM</td>\n      <td>02/20/2010 12:00:00 AM</td>\n      <td>1350</td>\n      <td>13</td>\n      <td>Newton</td>\n      <td>1385</td>\n      <td>2</td>\n      <td>900</td>\n      <td>VIOLATION OF COURT ORDER</td>\n      <td>...</td>\n      <td>AA</td>\n      <td>Adult Arrest</td>\n      <td>900.0</td>\n      <td>NaN</td>\n      <td>NaN</td>\n      <td>NaN</td>\n      <td>300 E  GAGE                         AV</td>\n      <td>NaN</td>\n      <td>33.9825</td>\n      <td>-118.2695</td>\n    </tr>\n    <tr>\n      <th>1</th>\n      <td>11401303</td>\n      <td>09/13/2010 12:00:00 AM</td>\n      <td>09/12/2010 12:00:00 AM</td>\n      <td>45</td>\n      <td>14</td>\n      <td>Pacific</td>\n      <td>1485</td>\n      <td>2</td>\n      <td>740</td>\n      <td>VANDALISM - FELONY ($400 &amp; OVER, ALL CHURCH VA...</td>\n      <td>...</td>\n      <td>IC</td>\n      <td>Invest Cont</td>\n      <td>740.0</td>\n      <td>NaN</td>\n      <td>NaN</td>\n      <td>NaN</td>\n      <td>SEPULVEDA                    BL</td>\n      <td>MANCHESTER                   AV</td>\n      <td>33.9599</td>\n      <td>-118.3962</td>\n    </tr>\n    <tr>\n      <th>2</th>\n      <td>70309629</td>\n      <td>08/09/2010 12:00:00 AM</td>\n      <td>08/09/2010 12:00:00 AM</td>\n      <td>1515</td>\n      <td>13</td>\n      <td>Newton</td>\n      <td>1324</td>\n      <td>2</td>\n      <td>946</td>\n      <td>OTHER MISCELLANEOUS CRIME</td>\n      <td>...</td>\n      <td>IC</td>\n      <td>Invest Cont</td>\n      <td>946.0</td>\n      <td>NaN</td>\n      <td>NaN</td>\n      <td>NaN</td>\n      <td>1300 E  21ST                         ST</td>\n      <td>NaN</td>\n      <td>34.0224</td>\n      <td>-118.2524</td>\n    </tr>\n    <tr>\n      <th>3</th>\n      <td>90631215</td>\n      <td>01/05/2010 12:00:00 AM</td>\n      <td>01/05/2010 12:00:00 AM</td>\n      <td>150</td>\n      <td>6</td>\n      <td>Hollywood</td>\n      <td>646</td>\n      <td>2</td>\n      <td>900</td>\n      <td>VIOLATION OF COURT ORDER</td>\n      <td>...</td>\n      <td>IC</td>\n      <td>Invest Cont</td>\n      <td>900.0</td>\n      <td>998.0</td>\n      <td>NaN</td>\n      <td>NaN</td>\n      <td>CAHUENGA                     BL</td>\n      <td>HOLLYWOOD                    BL</td>\n      <td>34.1016</td>\n      <td>-118.3295</td>\n    </tr>\n    <tr>\n      <th>4</th>\n      <td>100100501</td>\n      <td>01/03/2010 12:00:00 AM</td>\n      <td>01/02/2010 12:00:00 AM</td>\n      <td>2100</td>\n      <td>1</td>\n      <td>Central</td>\n      <td>176</td>\n      <td>1</td>\n      <td>122</td>\n      <td>RAPE, ATTEMPTED</td>\n      <td>...</td>\n      <td>IC</td>\n      <td>Invest Cont</td>\n      <td>122.0</td>\n      <td>NaN</td>\n      <td>NaN</td>\n      <td>NaN</td>\n      <td>8TH                          ST</td>\n      <td>SAN PEDRO                    ST</td>\n      <td>34.0387</td>\n      <td>-118.2488</td>\n    </tr>\n  </tbody>\n</table>\n<p>5 rows \u00d7 28 columns</p>\n</div>",
                        "text/plain": "       DR_NO               Date Rptd                DATE OCC  TIME OCC  AREA   \\\n0    1307355  02/20/2010 12:00:00 AM  02/20/2010 12:00:00 AM      1350     13   \n1   11401303  09/13/2010 12:00:00 AM  09/12/2010 12:00:00 AM        45     14   \n2   70309629  08/09/2010 12:00:00 AM  08/09/2010 12:00:00 AM      1515     13   \n3   90631215  01/05/2010 12:00:00 AM  01/05/2010 12:00:00 AM       150      6   \n4  100100501  01/03/2010 12:00:00 AM  01/02/2010 12:00:00 AM      2100      1   \n\n   AREA NAME  Rpt Dist No  Part 1-2  Crm Cd  \\\n0     Newton         1385         2     900   \n1    Pacific         1485         2     740   \n2     Newton         1324         2     946   \n3  Hollywood          646         2     900   \n4    Central          176         1     122   \n\n                                         Crm Cd Desc  ... Status  \\\n0                           VIOLATION OF COURT ORDER  ...     AA   \n1  VANDALISM - FELONY ($400 & OVER, ALL CHURCH VA...  ...     IC   \n2                          OTHER MISCELLANEOUS CRIME  ...     IC   \n3                           VIOLATION OF COURT ORDER  ...     IC   \n4                                    RAPE, ATTEMPTED  ...     IC   \n\n    Status Desc Crm Cd 1 Crm Cd 2  Crm Cd 3 Crm Cd 4  \\\n0  Adult Arrest    900.0      NaN       NaN      NaN   \n1   Invest Cont    740.0      NaN       NaN      NaN   \n2   Invest Cont    946.0      NaN       NaN      NaN   \n3   Invest Cont    900.0    998.0       NaN      NaN   \n4   Invest Cont    122.0      NaN       NaN      NaN   \n\n                                  LOCATION                     Cross Street  \\\n0   300 E  GAGE                         AV                              NaN   \n1          SEPULVEDA                    BL  MANCHESTER                   AV   \n2  1300 E  21ST                         ST                              NaN   \n3          CAHUENGA                     BL  HOLLYWOOD                    BL   \n4          8TH                          ST  SAN PEDRO                    ST   \n\n       LAT       LON  \n0  33.9825 -118.2695  \n1  33.9599 -118.3962  \n2  34.0224 -118.2524  \n3  34.1016 -118.3295  \n4  34.0387 -118.2488  \n\n[5 rows x 28 columns]"
                    },
                    "execution_count": 2,
                    "metadata": {},
                    "output_type": "execute_result"
                }
            ],
            "source": "import pandas as pd\nimport numpy as np\n\n\n#Note: df_data_1 contains the information imported in a hidden cell from the Local Watson File.\n# The Data was saved from the link above, imported into Watson, and imported into the notebook with hidden code...which is shared on Github, \n# So the cell above the markup \n\nla_crime_df = df_data_1\nla_crime_df.head()"
        },
        {
            "cell_type": "code",
            "execution_count": 3,
            "metadata": {},
            "outputs": [
                {
                    "data": {
                        "text/plain": "(2111282, 28)"
                    },
                    "execution_count": 3,
                    "metadata": {},
                    "output_type": "execute_result"
                }
            ],
            "source": "# Show size of crime database:\nla_crime_df.shape"
        },
        {
            "cell_type": "code",
            "execution_count": 4,
            "metadata": {
                "scrolled": true
            },
            "outputs": [
                {
                    "data": {
                        "text/plain": "DR_NO               int64\nDate Rptd          object\nDATE OCC           object\nTIME OCC            int64\nAREA                int64\nAREA NAME          object\nRpt Dist No         int64\nPart 1-2            int64\nCrm Cd              int64\nCrm Cd Desc        object\nMocodes            object\nVict Age            int64\nVict Sex           object\nVict Descent       object\nPremis Cd         float64\nPremis Desc        object\nWeapon Used Cd    float64\nWeapon Desc        object\nStatus             object\nStatus Desc        object\nCrm Cd 1          float64\nCrm Cd 2          float64\nCrm Cd 3          float64\nCrm Cd 4          float64\nLOCATION           object\nCross Street       object\nLAT               float64\nLON               float64\ndtype: object"
                    },
                    "execution_count": 4,
                    "metadata": {},
                    "output_type": "execute_result"
                }
            ],
            "source": "#Show column headers and data types\nla_crime_df.dtypes"
        },
        {
            "cell_type": "code",
            "execution_count": 5,
            "metadata": {},
            "outputs": [
                {
                    "data": {
                        "text/html": "<div>\n<style scoped>\n    .dataframe tbody tr th:only-of-type {\n        vertical-align: middle;\n    }\n\n    .dataframe tbody tr th {\n        vertical-align: top;\n    }\n\n    .dataframe thead th {\n        text-align: right;\n    }\n</style>\n<table border=\"1\" class=\"dataframe\">\n  <thead>\n    <tr style=\"text-align: right;\">\n      <th></th>\n      <th>DR_NO</th>\n      <th>AREA</th>\n      <th>AREA NAME</th>\n      <th>Crm Cd</th>\n      <th>LAT</th>\n      <th>LON</th>\n    </tr>\n  </thead>\n  <tbody>\n    <tr>\n      <th>0</th>\n      <td>1307355</td>\n      <td>NaN</td>\n      <td>Newton</td>\n      <td>900</td>\n      <td>33.9825</td>\n      <td>-118.2695</td>\n    </tr>\n    <tr>\n      <th>1</th>\n      <td>11401303</td>\n      <td>NaN</td>\n      <td>Pacific</td>\n      <td>740</td>\n      <td>33.9599</td>\n      <td>-118.3962</td>\n    </tr>\n    <tr>\n      <th>2</th>\n      <td>70309629</td>\n      <td>NaN</td>\n      <td>Newton</td>\n      <td>946</td>\n      <td>34.0224</td>\n      <td>-118.2524</td>\n    </tr>\n    <tr>\n      <th>3</th>\n      <td>90631215</td>\n      <td>NaN</td>\n      <td>Hollywood</td>\n      <td>900</td>\n      <td>34.1016</td>\n      <td>-118.3295</td>\n    </tr>\n    <tr>\n      <th>4</th>\n      <td>100100501</td>\n      <td>NaN</td>\n      <td>Central</td>\n      <td>122</td>\n      <td>34.0387</td>\n      <td>-118.2488</td>\n    </tr>\n  </tbody>\n</table>\n</div>",
                        "text/plain": "       DR_NO  AREA  AREA NAME  Crm Cd      LAT       LON\n0    1307355   NaN     Newton     900  33.9825 -118.2695\n1   11401303   NaN    Pacific     740  33.9599 -118.3962\n2   70309629   NaN     Newton     946  34.0224 -118.2524\n3   90631215   NaN  Hollywood     900  34.1016 -118.3295\n4  100100501   NaN    Central     122  34.0387 -118.2488"
                    },
                    "execution_count": 5,
                    "metadata": {},
                    "output_type": "execute_result"
                }
            ],
            "source": "#The most important columns for us are the 'DR_NO'(index), 'AREA', 'AREA NAME', Crm Cd', 'LAT', 'LON'\n#There may be use in the future regarding 'Weapon Used Cd' for specific types of violent crime if you want to subdivide categories\n\nla_crime_df = la_crime_df.reindex(columns = ['DR_NO','AREA','AREA NAME', 'Crm Cd', 'LAT', 'LON'])\nla_crime_df.head()"
        },
        {
            "cell_type": "code",
            "execution_count": 6,
            "metadata": {},
            "outputs": [
                {
                    "data": {
                        "text/html": "<div>\n<style scoped>\n    .dataframe tbody tr th:only-of-type {\n        vertical-align: middle;\n    }\n\n    .dataframe tbody tr th {\n        vertical-align: top;\n    }\n\n    .dataframe thead th {\n        text-align: right;\n    }\n</style>\n<table border=\"1\" class=\"dataframe\">\n  <thead>\n    <tr style=\"text-align: right;\">\n      <th></th>\n      <th>DR_NO</th>\n      <th>AREA NAME</th>\n      <th>Crm Cd</th>\n      <th>LAT</th>\n      <th>LON</th>\n    </tr>\n  </thead>\n  <tbody>\n    <tr>\n      <th>0</th>\n      <td>1307355</td>\n      <td>Newton</td>\n      <td>900</td>\n      <td>33.9825</td>\n      <td>-118.2695</td>\n    </tr>\n    <tr>\n      <th>1</th>\n      <td>11401303</td>\n      <td>Pacific</td>\n      <td>740</td>\n      <td>33.9599</td>\n      <td>-118.3962</td>\n    </tr>\n    <tr>\n      <th>2</th>\n      <td>70309629</td>\n      <td>Newton</td>\n      <td>946</td>\n      <td>34.0224</td>\n      <td>-118.2524</td>\n    </tr>\n    <tr>\n      <th>3</th>\n      <td>90631215</td>\n      <td>Hollywood</td>\n      <td>900</td>\n      <td>34.1016</td>\n      <td>-118.3295</td>\n    </tr>\n    <tr>\n      <th>4</th>\n      <td>100100501</td>\n      <td>Central</td>\n      <td>122</td>\n      <td>34.0387</td>\n      <td>-118.2488</td>\n    </tr>\n  </tbody>\n</table>\n</div>",
                        "text/plain": "       DR_NO  AREA NAME  Crm Cd      LAT       LON\n0    1307355     Newton     900  33.9825 -118.2695\n1   11401303    Pacific     740  33.9599 -118.3962\n2   70309629     Newton     946  34.0224 -118.2524\n3   90631215  Hollywood     900  34.1016 -118.3295\n4  100100501    Central     122  34.0387 -118.2488"
                    },
                    "execution_count": 6,
                    "metadata": {},
                    "output_type": "execute_result"
                }
            ],
            "source": "#It appears 'AREA' is not a very useful column, so we'll delete it.\n\nla_crime_df.drop(columns = ['AREA'], inplace = True)\nla_crime_df.head()"
        }
    ],
    "metadata": {
        "kernelspec": {
            "display_name": "Python 3.6",
            "language": "python",
            "name": "python3"
        },
        "language_info": {
            "codemirror_mode": {
                "name": "ipython",
                "version": 3
            },
            "file_extension": ".py",
            "mimetype": "text/x-python",
            "name": "python",
            "nbconvert_exporter": "python",
            "pygments_lexer": "ipython3",
            "version": "3.6.9"
        }
    },
    "nbformat": 4,
    "nbformat_minor": 1
}